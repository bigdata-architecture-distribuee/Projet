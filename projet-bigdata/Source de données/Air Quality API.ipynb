{
 "cells": [
  {
   "cell_type": "code",
   "execution_count": null,
   "metadata": {},
   "outputs": [],
   "source": [
    "import requests\n",
    "\n",
    "base_url = \"https://api.waqi.info\"\n",
    "token = \"eb5b6acae357a25be942b74897e4e18f3b371f24\"\n",
    "\n",
    "#on peux tester en mettant une ville \n",
    "city = 'Paris'\n",
    "r = requests.get(base_url + f\"/feed/{city}/?token={token}\")\n",
    "\"City: {}, Air quality index: {}\".format(r.json()['data']['city']['name'], r.json()['data']['aqi'])\n",
    "\n",
    "#on peut faire chercher par cordonnées \n",
    "latlngbox = \"41.3718,-5.1428,51.0870,9.5593\" \n",
    "r = requests.get(base_url + f\"/map/bounds/?latlng={latlngbox}&token={token}\")\n",
    "[f\"Station: {d['station']['name']}, latitude: {d['lat']}, longitude: {d['lon']}, air quality: {d['aqi']}\" for d in r.json()['data']]\n",
    "\n",
    "#Transformer en Dataframe\n",
    "\n",
    "import pandas as pd\n",
    "\n",
    "def make_dataframe(r):\n",
    "    \"\"\"Extracts data from request r and returns a DataFrame.\"\"\"\n",
    "    rows = []\n",
    "    for item in r.json()['data']:\n",
    "        rows.append([item['lat'], item['lon'], item['aqi'], item['station']['name']])\n",
    "    df = pd.DataFrame(rows, columns=['lat', 'lon', 'aqi', 'name'])\n",
    "    df['aqi'] = pd.to_numeric(df.aqi, errors='coerce')\n",
    "    return df\n",
    "\n",
    "df = make_dataframe(r)\n",
    "df.head()\n",
    "\n",
    "#on fait  un scatter plot avec holoviews \n",
    "import holoviews as hv\n",
    "hv.extension('bokeh', logo=False)\n",
    "\n",
    "scatter = hv.Scatter(df.dropna(), kdims='lon', vdims=['lat', 'aqi', 'name'])\n",
    "scatter.opts(color='aqi', size=10, padding=.1, tools=['hover'], colorbar=True, cmap='magma', width=500, height=400, clim=(0, 60))"
   ]
  }
 ],
 "metadata": {
  "language_info": {
   "name": "python"
  },
  "orig_nbformat": 4
 },
 "nbformat": 4,
 "nbformat_minor": 2
}
